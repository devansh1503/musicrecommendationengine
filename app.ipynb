{
 "cells": [
  {
   "cell_type": "code",
   "execution_count": 1,
   "metadata": {},
   "outputs": [],
   "source": [
    "import joblib\n",
    "model = joblib.load('recmod')"
   ]
  },
  {
   "cell_type": "code",
   "execution_count": 2,
   "metadata": {},
   "outputs": [],
   "source": [
    "import pandas as pd\n",
    "import numpy as np\n",
    "\n",
    "data = pd.read_csv('data.csv')"
   ]
  },
  {
   "cell_type": "code",
   "execution_count": 3,
   "metadata": {},
   "outputs": [],
   "source": [
    "def predict(song,year):\n",
    "    songls = data.loc[data['name']==song]\n",
    "    pred_data = songls.loc[songls['year']==year]\n",
    "    pred_data = pred_data.select_dtypes(np.number).values\n",
    "    dist,ind = model.kneighbors(pred_data,n_neighbors=6)\n",
    "    songnames = [data.iloc[i].name for i in ind]\n",
    "    artistnames = [data.iloc[i].artists for i in ind]\n",
    "    return songnames,artistnames"
   ]
  },
  {
   "cell_type": "code",
   "execution_count": 4,
   "metadata": {},
   "outputs": [],
   "source": [
    "def getsong(song,year):\n",
    "    song,artist = predict(song,year)\n",
    "    strng = \"\"\n",
    "    for x,y in zip(song,artist):\n",
    "        strng = strng + x+\" By \"+y \n",
    "    #strng = strng.to_string()\n",
    "    return strng\n",
    "\n",
    "         \n"
   ]
  },
  {
   "cell_type": "code",
   "execution_count": 7,
   "metadata": {},
   "outputs": [
    {
     "data": {
      "text/plain": [
       "33808                 Fastlove, Pt. 1 By ['George Michael']\n",
       "37159                      Hold My Liquor By ['Kanye West']\n",
       "15247                             Rosa Parks By ['OutKast']\n",
       "155039    I'll Never Love Again - Extended Version By ['...\n",
       "18337     Suit & Tie (feat. Jay-Z) By ['Justin Timberlak...\n",
       "36631     Sprawl II (Mountains Beyond Mountains) By ['Ar...\n",
       "dtype: object"
      ]
     },
     "execution_count": 7,
     "metadata": {},
     "output_type": "execute_result"
    }
   ],
   "source": [
    "getsong('Fastlove, Pt. 1',1996)"
   ]
  },
  {
   "cell_type": "code",
   "execution_count": 5,
   "metadata": {},
   "outputs": [],
   "source": [
    "from flask import  Flask,render_template,request"
   ]
  },
  {
   "cell_type": "code",
   "execution_count": 10,
   "metadata": {},
   "outputs": [
    {
     "name": "stdout",
     "output_type": "stream",
     "text": [
      " * Serving Flask app '__main__' (lazy loading)\n",
      " * Environment: production\n",
      "   WARNING: This is a development server. Do not use it in a production deployment.\n",
      "   Use a production WSGI server instead.\n",
      " * Debug mode: off\n"
     ]
    },
    {
     "name": "stderr",
     "output_type": "stream",
     "text": [
      " * Running on all addresses.\n",
      "   WARNING: This is a development server. Do not use it in a production deployment.\n",
      " * Running on http://192.168.43.93:5000/ (Press CTRL+C to quit)\n",
      "192.168.43.93 - - [17/Feb/2022 09:16:38] \"GET / HTTP/1.1\" 200 -\n",
      "192.168.43.93 - - [17/Feb/2022 09:16:42] \"GET /favicon.ico HTTP/1.1\" 404 -\n",
      "192.168.43.93 - - [17/Feb/2022 09:16:58] \"POST /pred HTTP/1.1\" 200 -\n",
      "192.168.43.93 - - [17/Feb/2022 09:17:19] \"POST /pred HTTP/1.1\" 200 -\n",
      "192.168.43.93 - - [17/Feb/2022 09:17:34] \"POST /pred HTTP/1.1\" 200 -\n",
      "192.168.43.93 - - [17/Feb/2022 09:17:49] \"POST /pred HTTP/1.1\" 200 -\n",
      "192.168.43.93 - - [17/Feb/2022 09:18:05] \"POST /pred HTTP/1.1\" 200 -\n",
      "192.168.43.93 - - [17/Feb/2022 09:19:18] \"POST /pred HTTP/1.1\" 200 -\n"
     ]
    }
   ],
   "source": [
    "app = Flask(__name__)\n",
    "@app.route(\"/\")\n",
    "def hello():\n",
    "    return render_template('home.html',result=\"\")\n",
    "@app.route(\"/pred\",methods=['GET','POST'])\n",
    "def pred():\n",
    "    if request.method =='POST':\n",
    "        song = request.form['song']\n",
    "        year = request.form['year']\n",
    "        year = int(year)\n",
    "        res = getsong(song,year)\n",
    "        res1,res2,res3,res4,res5,res6 = res.iloc[0],res.iloc[1],res.iloc[2],res.iloc[3],res.iloc[4],res.iloc[5]\n",
    "    return render_template('home.html',result=res1,result1=res2,result2=res3,result3=res4,result4=res5,result5=res6)\n",
    "if __name__ == '__main__':\n",
    "    app.run(host='0.0.0.0')"
   ]
  }
 ],
 "metadata": {
  "interpreter": {
   "hash": "4e4149bc7421ca705a495cb58bc44dc4cc92dc4a9592f5e3bb92c54cb570f098"
  },
  "kernelspec": {
   "display_name": "Python 3.9.0 64-bit",
   "language": "python",
   "name": "python3"
  },
  "language_info": {
   "codemirror_mode": {
    "name": "ipython",
    "version": 3
   },
   "file_extension": ".py",
   "mimetype": "text/x-python",
   "name": "python",
   "nbconvert_exporter": "python",
   "pygments_lexer": "ipython3",
   "version": "3.9.0"
  },
  "orig_nbformat": 4
 },
 "nbformat": 4,
 "nbformat_minor": 2
}
